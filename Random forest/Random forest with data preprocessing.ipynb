{
 "cells": [
  {
   "cell_type": "code",
   "execution_count": 1,
   "metadata": {
    "collapsed": true
   },
   "outputs": [],
   "source": [
    "import pandas as pd\n",
    "import numpy as np\n",
    "import matplotlib.pyplot as plt\n",
    "import math as mt\n",
    "from numpy import genfromtxt\n",
    "from numpy import linalg as LA\n",
    "from sklearn import linear_model\n",
    "from sklearn.metrics import mean_squared_error\n",
    "from numpy import ma\n",
    "\n",
    "from sklearn.ensemble import RandomForestClassifier\n",
    "\n",
    "import graphviz\n",
    "from sklearn import tree"
   ]
  },
  {
   "cell_type": "code",
   "execution_count": 111,
   "metadata": {},
   "outputs": [],
   "source": [
    "df = pd.read_csv('OnlineNewsPopularity.csv')\n",
    "df = df.loc[:, ' timedelta':]\n",
    "dfx = df.loc[:, ' timedelta':' abs_title_sentiment_polarity']\n",
    "dfy = df.loc[:, ' shares']\n",
    "\n",
    "data = df.as_matrix(columns=None)\n",
    "\n",
    "data = data[data[:,3]<1]\n",
    "\n",
    "c = np.array([10,19,43,44,45,47,48,49,52])\n",
    "for i in c:\n",
    "    data = data[data[:,i]!=0]\n",
    "\n",
    "'''\n",
    "c = np.array([2,6,7,8,9,21,25,26,27,28,29,38,39,40,41,42,46])\n",
    "for i in c:\n",
    "    if (LA.norm(data[:,i],0)==data[:,i].shape):\n",
    "        data[:,i] = np.log(data[:,i])\n",
    "    else:\n",
    "        data[:,i] = np.sqrt(data[:,i])\n",
    "'''\n",
    "# eliminate unvalid data\n",
    "#c = np.array([18,20,22,24])\n",
    "#data = np.delete(data, c, 1)\n",
    "\n",
    "# pre eliminate unvalid and unuseful features\n",
    "#c = np.array([12,13,14,15,16,17,18,20,22,24,30,31,32,33,34,35,36,37])\n",
    "#data = np.delete(data, c, 1)\n",
    "\n",
    "my_data = np.copy(data)\n",
    "datax = my_data[:,:my_data.shape[1]-1]\n",
    "datay = my_data[:,my_data.shape[1]-1]\n",
    "for j in range(0,datay.shape[0]):\n",
    "    if datay[j] >1400:\n",
    "        datay[j] =1\n",
    "    else:\n",
    "        datay[j] =0\n",
    "        \n",
    "datax_train = datax[:int(datax.shape[0]*3/4),:]\n",
    "datay_train = datay[:int(datay.shape[0]*3/4)]\n",
    "\n",
    "datax_test = datax[int(datax.shape[0]*3/4):,:]\n",
    "datay_test = datay[int(datay.shape[0]*3/4):]"
   ]
  },
  {
   "cell_type": "code",
   "execution_count": 114,
   "metadata": {},
   "outputs": [
    {
     "data": {
      "text/plain": [
       "0.64439298709890835"
      ]
     },
     "execution_count": 114,
     "metadata": {},
     "output_type": "execute_result"
    }
   ],
   "source": [
    "clf = RandomForestClassifier(max_depth=2, random_state=0)\n",
    "clf.fit(datax_train, datay_train)\n",
    "clf.score(datax_test,datay_test)"
   ]
  },
  {
   "cell_type": "code",
   "execution_count": 116,
   "metadata": {},
   "outputs": [
    {
     "data": {
      "text/plain": [
       "'randomforestwithprepocess.pdf'"
      ]
     },
     "execution_count": 116,
     "metadata": {},
     "output_type": "execute_result"
    }
   ],
   "source": [
    "features = dfx.columns\n",
    "targetnames = ['nonpopular','popular']\n",
    "dot_data = tree.export_graphviz(clf.estimators_[0], out_file=None,feature_names=features,class_names=targetnames,  \n",
    "                         filled=True, rounded=True,  \n",
    "                         special_characters=True) \n",
    "graph = graphviz.Source(dot_data) \n",
    "graph.render(\"randomforestwithprepocess\")"
   ]
  },
  {
   "cell_type": "code",
   "execution_count": 107,
   "metadata": {
    "collapsed": true
   },
   "outputs": [],
   "source": [
    "targetnames = ['popular','nonpopular']"
   ]
  },
  {
   "cell_type": "code",
   "execution_count": 115,
   "metadata": {},
   "outputs": [
    {
     "data": {
      "text/plain": [
       "DecisionTreeClassifier(class_weight=None, criterion='gini', max_depth=2,\n",
       "            max_features='auto', max_leaf_nodes=None,\n",
       "            min_impurity_decrease=0.0, min_impurity_split=None,\n",
       "            min_samples_leaf=1, min_samples_split=2,\n",
       "            min_weight_fraction_leaf=0.0, presort=False,\n",
       "            random_state=209652396, splitter='best')"
      ]
     },
     "execution_count": 115,
     "metadata": {},
     "output_type": "execute_result"
    }
   ],
   "source": [
    "clf.estimators_[0]"
   ]
  },
  {
   "cell_type": "code",
   "execution_count": 125,
   "metadata": {},
   "outputs": [
    {
     "data": {
      "text/plain": [
       "array([ 0.00227703,  0.        ,  0.        ,  0.        ,  0.        ,\n",
       "        0.        ,  0.        ,  0.        ,  0.        ,  0.        ,\n",
       "        0.        ,  0.        ,  0.        ,  0.        ,  0.        ,\n",
       "        0.        ,  0.01935766,  0.14502444,  0.        ,  0.0214695 ,\n",
       "        0.        ,  0.01899416,  0.        ,  0.00482539,  0.02646022,\n",
       "        0.09719766,  0.24833905,  0.07744565,  0.03711625,  0.        ,\n",
       "        0.        ,  0.        ,  0.        ,  0.        ,  0.        ,\n",
       "        0.07218761,  0.        ,  0.02008698,  0.        ,  0.        ,\n",
       "        0.11996659,  0.        ,  0.05703874,  0.        ,  0.0024535 ,\n",
       "        0.        ,  0.        ,  0.02494404,  0.        ,  0.        ,\n",
       "        0.        ,  0.        ,  0.        ,  0.00481552,  0.        ,\n",
       "        0.        ,  0.        ,  0.        ,  0.        ])"
      ]
     },
     "execution_count": 125,
     "metadata": {},
     "output_type": "execute_result"
    }
   ],
   "source": [
    "clf.feature_importances_"
   ]
  },
  {
   "cell_type": "code",
   "execution_count": 141,
   "metadata": {},
   "outputs": [],
   "source": [
    "vip_features = np.zeros([int(LA.norm(clf.feature_importances_,0)),2])\n",
    "j=0\n",
    "for i in range (0,clf.feature_importances_.shape[0]):\n",
    "    if clf.feature_importances_[i]!=0:\n",
    "        vip_features[j,0] = i\n",
    "        vip_features[j,1] = clf.feature_importances_[i]\n",
    "        j+=1"
   ]
  },
  {
   "cell_type": "code",
   "execution_count": 135,
   "metadata": {},
   "outputs": [
    {
     "data": {
      "text/plain": [
       "(59,)"
      ]
     },
     "execution_count": 135,
     "metadata": {},
     "output_type": "execute_result"
    }
   ],
   "source": [
    "clf.feature_importances_.shape"
   ]
  },
  {
   "cell_type": "code",
   "execution_count": 131,
   "metadata": {},
   "outputs": [],
   "source": [
    "vip_features = np.zeros([18,2])"
   ]
  },
  {
   "cell_type": "code",
   "execution_count": 132,
   "metadata": {},
   "outputs": [
    {
     "data": {
      "text/plain": [
       "(18, 2)"
      ]
     },
     "execution_count": 132,
     "metadata": {},
     "output_type": "execute_result"
    }
   ],
   "source": [
    "vip_features.shape"
   ]
  },
  {
   "cell_type": "code",
   "execution_count": 138,
   "metadata": {},
   "outputs": [
    {
     "data": {
      "text/plain": [
       "59"
      ]
     },
     "execution_count": 138,
     "metadata": {},
     "output_type": "execute_result"
    }
   ],
   "source": [
    "clf.feature_importances_.shape[0]"
   ]
  },
  {
   "cell_type": "code",
   "execution_count": 142,
   "metadata": {},
   "outputs": [
    {
     "data": {
      "text/plain": [
       "array([[  0.00000000e+00,   2.27702997e-03],\n",
       "       [  1.60000000e+01,   1.93576645e-02],\n",
       "       [  1.70000000e+01,   1.45024439e-01],\n",
       "       [  1.90000000e+01,   2.14695009e-02],\n",
       "       [  2.10000000e+01,   1.89941625e-02],\n",
       "       [  2.30000000e+01,   4.82538553e-03],\n",
       "       [  2.40000000e+01,   2.64602179e-02],\n",
       "       [  2.50000000e+01,   9.71976644e-02],\n",
       "       [  2.60000000e+01,   2.48339050e-01],\n",
       "       [  2.70000000e+01,   7.74456529e-02],\n",
       "       [  2.80000000e+01,   3.71162524e-02],\n",
       "       [  3.50000000e+01,   7.21876142e-02],\n",
       "       [  3.70000000e+01,   2.00869843e-02],\n",
       "       [  4.00000000e+01,   1.19966586e-01],\n",
       "       [  4.20000000e+01,   5.70387373e-02],\n",
       "       [  4.40000000e+01,   2.45349824e-03],\n",
       "       [  4.70000000e+01,   2.49440414e-02],\n",
       "       [  5.30000000e+01,   4.81551869e-03]])"
      ]
     },
     "execution_count": 142,
     "metadata": {},
     "output_type": "execute_result"
    }
   ],
   "source": [
    "vip_features"
   ]
  },
  {
   "cell_type": "code",
   "execution_count": 161,
   "metadata": {},
   "outputs": [],
   "source": [
    "my_data = np.copy(data)\n",
    "datax = my_data[:,vip_features[:,0].astype(int)]\n",
    "datay = my_data[:,my_data.shape[1]-1]\n",
    "for j in range(0,datay.shape[0]):\n",
    "    if datay[j] >1400:\n",
    "        datay[j] =1\n",
    "    else:\n",
    "        datay[j] =0\n",
    "        \n",
    "datax_train = datax[:int(datax.shape[0]*3/4),:]\n",
    "datay_train = datay[:int(datay.shape[0]*3/4)]\n",
    "\n",
    "datax_test = datax[int(datax.shape[0]*3/4):,:]\n",
    "datay_test = datay[int(datay.shape[0]*3/4):]"
   ]
  },
  {
   "cell_type": "code",
   "execution_count": 172,
   "metadata": {},
   "outputs": [
    {
     "data": {
      "text/plain": [
       "0.65431690373800855"
      ]
     },
     "execution_count": 172,
     "metadata": {},
     "output_type": "execute_result"
    }
   ],
   "source": [
    "clf = RandomForestClassifier(max_depth=7, random_state=0)\n",
    "clf.fit(datax_train, datay_train)\n",
    "clf.score(datax_test,datay_test)"
   ]
  },
  {
   "cell_type": "code",
   "execution_count": 173,
   "metadata": {},
   "outputs": [
    {
     "data": {
      "text/plain": [
       "0.49663689491674934"
      ]
     },
     "execution_count": 173,
     "metadata": {},
     "output_type": "execute_result"
    }
   ],
   "source": [
    "from sklearn.linear_model import LogisticRegression\n",
    "lr = LogisticRegression()\n",
    "lr.fit(datax_train, datay_train) # 用逻辑回归拟合数据\n",
    "lr.score(datax_test, datay_test) # 0.98 在测试集上的平均正确率为0.9"
   ]
  },
  {
   "cell_type": "code",
   "execution_count": 174,
   "metadata": {},
   "outputs": [
    {
     "data": {
      "image/png": "[encoded data removed]",
      "text/plain": [
       "<matplotlib.figure.Figure at 0x228318413c8>"
      ]
     },
     "metadata": {},
     "output_type": "display_data"
    }
   ],
   "source": [
    "from sklearn.linear_model import LogisticRegression\n",
    "from sklearn.decomposition import PCA\n",
    "myscores = np.zeros(datax_train.shape[1])\n",
    "for i in range(1,datax_train.shape[1]+1):\n",
    "    pca = PCA(n_components=i) # 保留2个主成分\n",
    "    lr = LogisticRegression() # 创建逻辑回归对象\n",
    "    X_train_pca = pca.fit_transform(datax_train) # 把原始训练集映射到主成分组成的子空间中\n",
    "    X_test_pca = pca.transform(datax_test) # 把原始测试集映射到主成分组成的子空间中\n",
    "    lr.fit(X_train_pca, datay_train) # 用逻辑回归拟合数据\n",
    "    score = lr.score(X_test_pca, datay_test) # 0.98 在测试集上的平均正确率为0.9\n",
    "    myscores[i-1] = score \n",
    "    plt.plot(i,score,'ro',c='gold',markersize = 3)\n",
    "plt.show()"
   ]
  },
  {
   "cell_type": "code",
   "execution_count": 175,
   "metadata": {},
   "outputs": [
    {
     "data": {
      "text/plain": [
       "array([ 0.52607785,  0.52144669,  0.57415371,  0.57536663,  0.59411181,\n",
       "        0.59973536,  0.59356048,  0.61572389,  0.61373911,  0.61384938,\n",
       "        0.64373139,  0.61373911,  0.63557173,  0.61395964,  0.61406991,\n",
       "        0.61373911,  0.61373911,  0.61384938])"
      ]
     },
     "execution_count": 175,
     "metadata": {},
     "output_type": "execute_result"
    }
   ],
   "source": [
    "myscores"
   ]
  },
  {
   "cell_type": "code",
   "execution_count": null,
   "metadata": {
    "collapsed": true
   },
   "outputs": [],
   "source": []
  }
 ],
 "metadata": {
  "kernelspec": {
   "display_name": "Python 3",
   "language": "python",
   "name": "python3"
  },
  "language_info": {
   "codemirror_mode": {
    "name": "ipython",
    "version": 3
   },
   "file_extension": ".py",
   "mimetype": "text/x-python",
   "name": "python",
   "nbconvert_exporter": "python",
   "pygments_lexer": "ipython3",
   "version": "3.6.2"
  }
 },
 "nbformat": 4,
 "nbformat_minor": 2
}
