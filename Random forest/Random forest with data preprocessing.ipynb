{
 "cells": [
  {
   "cell_type": "code",
   "execution_count": 1,
   "metadata": {
    "collapsed": true
   },
   "outputs": [],
   "source": [
    "import pandas as pd\n",
    "import numpy as np\n",
    "import matplotlib.pyplot as plt\n",
    "import math as mt\n",
    "from numpy import genfromtxt\n",
    "from numpy import linalg as LA\n",
    "from sklearn import linear_model\n",
    "from sklearn.metrics import mean_squared_error\n",
    "from numpy import ma\n",
    "\n",
    "from sklearn.ensemble import RandomForestClassifier\n",
    "\n",
    "import graphviz\n",
    "from sklearn import tree"
   ]
  },
  {
   "cell_type": "code",
   "execution_count": 111,
   "metadata": {},
   "outputs": [],
   "source": [
    "df = pd.read_csv('OnlineNewsPopularity.csv')\n",
    "df = df.loc[:, ' timedelta':]\n",
    "dfx = df.loc[:, ' timedelta':' abs_title_sentiment_polarity']\n",
    "dfy = df.loc[:, ' shares']\n",
    "\n",
    "data = df.as_matrix(columns=None)\n",
    "\n",
    "data = data[data[:,3]<1]\n",
    "\n",
    "c = np.array([10,19,43,44,45,47,48,49,52])\n",
    "for i in c:\n",
    "    data = data[data[:,i]!=0]\n",
    "\n",
    "'''\n",
    "c = np.array([2,6,7,8,9,21,25,26,27,28,29,38,39,40,41,42,46])\n",
    "for i in c:\n",
    "    if (LA.norm(data[:,i],0)==data[:,i].shape):\n",
    "        data[:,i] = np.log(data[:,i])\n",
    "    else:\n",
    "        data[:,i] = np.sqrt(data[:,i])\n",
    "'''\n",
    "# eliminate unvalid data\n",
    "#c = np.array([18,20,22,24])\n",
    "#data = np.delete(data, c, 1)\n",
    "\n",
    "# pre eliminate unvalid and unuseful features\n",
    "#c = np.array([12,13,14,15,16,17,18,20,22,24,30,31,32,33,34,35,36,37])\n",
    "#data = np.delete(data, c, 1)\n",
    "\n",
    "my_data = np.copy(data)\n",
    "datax = my_data[:,:my_data.shape[1]-1]\n",
    "datay = my_data[:,my_data.shape[1]-1]\n",
    "for j in range(0,datay.shape[0]):\n",
    "    if datay[j] >1400:\n",
    "        datay[j] =1\n",
    "    else:\n",
    "        datay[j] =0\n",
    "        \n",
    "datax_train = datax[:int(datax.shape[0]*3/4),:]\n",
    "datay_train = datay[:int(datay.shape[0]*3/4)]\n",
    "\n",
    "datax_test = datax[int(datax.shape[0]*3/4):,:]\n",
    "datay_test = datay[int(datay.shape[0]*3/4):]"
   ]
  },
  {
   "cell_type": "code",
   "execution_count": 114,
   "metadata": {},
   "outputs": [
    {
     "data": {
      "text/plain": [
       "0.64439298709890835"
      ]
     },
     "execution_count": 114,
     "metadata": {},
     "output_type": "execute_result"
    }
   ],
   "source": [
    "clf = RandomForestClassifier(max_depth=2, random_state=0)\n",
    "clf.fit(datax_train, datay_train)\n",
    "clf.score(datax_test,datay_test)"
   ]
  },
  {
   "cell_type": "code",
   "execution_count": 116,
   "metadata": {},
   "outputs": [
    {
     "data": {
      "text/plain": [
       "'randomforestwithprepocess.pdf'"
      ]
     },
     "execution_count": 116,
     "metadata": {},
     "output_type": "execute_result"
    }
   ],
   "source": [
    "features = dfx.columns\n",
    "targetnames = ['nonpopular','popular']\n",
    "dot_data = tree.export_graphviz(clf.estimators_[0], out_file=None,feature_names=features,class_names=targetnames,  \n",
    "                         filled=True, rounded=True,  \n",
    "                         special_characters=True) \n",
    "graph = graphviz.Source(dot_data) \n",
    "graph.render(\"randomforestwithprepocess\")"
   ]
  },
  {
   "cell_type": "code",
   "execution_count": 107,
   "metadata": {
    "collapsed": true
   },
   "outputs": [],
   "source": [
    "targetnames = ['popular','nonpopular']"
   ]
  },
  {
   "cell_type": "code",
   "execution_count": 115,
   "metadata": {},
   "outputs": [
    {
     "data": {
      "text/plain": [
       "DecisionTreeClassifier(class_weight=None, criterion='gini', max_depth=2,\n",
       "            max_features='auto', max_leaf_nodes=None,\n",
       "            min_impurity_decrease=0.0, min_impurity_split=None,\n",
       "            min_samples_leaf=1, min_samples_split=2,\n",
       "            min_weight_fraction_leaf=0.0, presort=False,\n",
       "            random_state=209652396, splitter='best')"
      ]
     },
     "execution_count": 115,
     "metadata": {},
     "output_type": "execute_result"
    }
   ],
   "source": [
    "clf.estimators_[0]"
   ]
  },
  {
   "cell_type": "code",
   "execution_count": 125,
   "metadata": {},
   "outputs": [
    {
     "data": {
      "text/plain": [
       "array([ 0.00227703,  0.        ,  0.        ,  0.        ,  0.        ,\n",
       "        0.        ,  0.        ,  0.        ,  0.        ,  0.        ,\n",
       "        0.        ,  0.        ,  0.        ,  0.        ,  0.        ,\n",
       "        0.        ,  0.01935766,  0.14502444,  0.        ,  0.0214695 ,\n",
       "        0.        ,  0.01899416,  0.        ,  0.00482539,  0.02646022,\n",
       "        0.09719766,  0.24833905,  0.07744565,  0.03711625,  0.        ,\n",
       "        0.        ,  0.        ,  0.        ,  0.        ,  0.        ,\n",
       "        0.07218761,  0.        ,  0.02008698,  0.        ,  0.        ,\n",
       "        0.11996659,  0.        ,  0.05703874,  0.        ,  0.0024535 ,\n",
       "        0.        ,  0.        ,  0.02494404,  0.        ,  0.        ,\n",
       "        0.        ,  0.        ,  0.        ,  0.00481552,  0.        ,\n",
       "        0.        ,  0.        ,  0.        ,  0.        ])"
      ]
     },
     "execution_count": 125,
     "metadata": {},
     "output_type": "execute_result"
    }
   ],
   "source": [
    "clf.feature_importances_"
   ]
  },
  {
   "cell_type": "code",
   "execution_count": 126,
   "metadata": {},
   "outputs": [
    {
     "data": {
      "text/plain": [
       "1.0"
      ]
     },
     "execution_count": 126,
     "metadata": {},
     "output_type": "execute_result"
    }
   ],
   "source": [
    "np.sum(clf.feature_importances_)"
   ]
  },
  {
   "cell_type": "code",
   "execution_count": null,
   "metadata": {
    "collapsed": true
   },
   "outputs": [],
   "source": []
  }
 ],
 "metadata": {
  "kernelspec": {
   "display_name": "Python 3",
   "language": "python",
   "name": "python3"
  },
  "language_info": {
   "codemirror_mode": {
    "name": "ipython",
    "version": 3
   },
   "file_extension": ".py",
   "mimetype": "text/x-python",
   "name": "python",
   "nbconvert_exporter": "python",
   "pygments_lexer": "ipython3",
   "version": "3.6.2"
  }
 },
 "nbformat": 4,
 "nbformat_minor": 2
}
