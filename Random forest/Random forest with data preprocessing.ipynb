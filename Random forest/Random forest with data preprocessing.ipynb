{
 "cells": [
  {
   "cell_type": "code",
   "execution_count": 1,
   "metadata": {
    "collapsed": true
   },
   "outputs": [],
   "source": [
    "import pandas as pd\n",
    "import numpy as np\n",
    "import matplotlib.pyplot as plt\n",
    "import math as mt\n",
    "from numpy import genfromtxt\n",
    "from numpy import linalg as LA\n",
    "from sklearn import linear_model\n",
    "from sklearn.metrics import mean_squared_error\n",
    "from numpy import ma\n",
    "\n",
    "from sklearn.ensemble import RandomForestClassifier\n",
    "\n",
    "import graphviz\n",
    "from sklearn import tree"
   ]
  },
  {
   "cell_type": "code",
   "execution_count": 2,
   "metadata": {
    "collapsed": true
   },
   "outputs": [],
   "source": [
    "df = pd.read_csv('OnlineNewsPopularity.csv')\n",
    "df = df.loc[:, ' timedelta':]\n",
    "dfx = df.loc[:, ' timedelta':' abs_title_sentiment_polarity']\n",
    "dfy = df.loc[:, ' shares']\n",
    "\n",
    "data = df.as_matrix(columns=None)\n",
    "\n",
    "data = data[data[:,3]<1]\n",
    "\n",
    "c = np.array([10,19,43,44,45,47,48,49,52])\n",
    "for i in c:\n",
    "    data = data[data[:,i]!=0]\n",
    "\n",
    "'''\n",
    "c = np.array([2,6,7,8,9,21,25,26,27,28,29,38,39,40,41,42,46])\n",
    "for i in c:\n",
    "    if (LA.norm(data[:,i],0)==data[:,i].shape):\n",
    "        data[:,i] = np.log(data[:,i])\n",
    "    else:\n",
    "        data[:,i] = np.sqrt(data[:,i])\n",
    "'''\n",
    "# eliminate unvalid data\n",
    "#c = np.array([18,20,22,24])\n",
    "#data = np.delete(data, c, 1)\n",
    "\n",
    "# pre eliminate unvalid and unuseful features\n",
    "#c = np.array([12,13,14,15,16,17,18,20,22,24,30,31,32,33,34,35,36,37])\n",
    "#data = np.delete(data, c, 1)\n",
    "\n",
    "my_data = np.copy(data)\n",
    "datax = my_data[:,:my_data.shape[1]-1]\n",
    "datay = my_data[:,my_data.shape[1]-1]\n",
    "for j in range(0,datay.shape[0]):\n",
    "    if datay[j] >1400:\n",
    "        datay[j] =1\n",
    "    else:\n",
    "        datay[j] =0\n",
    "        \n",
    "datax_train = datax[:int(datax.shape[0]*3/4),:]\n",
    "datay_train = datay[:int(datay.shape[0]*3/4)]\n",
    "\n",
    "datax_test = datax[int(datax.shape[0]*3/4):,:]\n",
    "datay_test = datay[int(datay.shape[0]*3/4):]"
   ]
  },
  {
   "cell_type": "code",
   "execution_count": 288,
   "metadata": {},
   "outputs": [
    {
     "data": {
      "text/plain": [
       "0.68232440180835818"
      ]
     },
     "execution_count": 288,
     "metadata": {},
     "output_type": "execute_result"
    }
   ],
   "source": [
    "myscorerf = 0.5\n",
    "var_i =0\n",
    "var_j=0\n",
    "var_k=0\n",
    "for i in range(5,25):\n",
    "    for j in range(2,10):\n",
    "        for k in range(0,2):\n",
    "            clf = RandomForestClassifier(n_estimators=i, criterion='entropy', max_depth=j, random_state=k)\n",
    "            clf.fit(datax_train, datay_train)\n",
    "            temp = clf.score(datax_test,datay_test)\n",
    "            if temp> myscorerf:\n",
    "                myscorerf = temp\n",
    "                var_i=i\n",
    "                var_j=j\n",
    "                var_k=k\n",
    "myscorerf"
   ]
  },
  {
   "cell_type": "code",
   "execution_count": 284,
   "metadata": {},
   "outputs": [
    {
     "data": {
      "text/plain": [
       "0.67879589811445584"
      ]
     },
     "execution_count": 284,
     "metadata": {},
     "output_type": "execute_result"
    }
   ],
   "source": [
    "myscorerf"
   ]
  },
  {
   "cell_type": "code",
   "execution_count": 291,
   "metadata": {},
   "outputs": [
    {
     "data": {
      "text/plain": [
       "7"
      ]
     },
     "execution_count": 291,
     "metadata": {},
     "output_type": "execute_result"
    }
   ],
   "source": [
    "var_j"
   ]
  },
  {
   "cell_type": "code",
   "execution_count": 3,
   "metadata": {},
   "outputs": [
    {
     "data": {
      "text/plain": [
       "0.68232440180835818"
      ]
     },
     "execution_count": 3,
     "metadata": {},
     "output_type": "execute_result"
    }
   ],
   "source": [
    "clf = RandomForestClassifier(n_estimators=17, criterion='entropy', max_depth=7, random_state=0)\n",
    "clf.fit(datax_train, datay_train)\n",
    "clf.score(datax_test,datay_test)"
   ]
  },
  {
   "cell_type": "code",
   "execution_count": 298,
   "metadata": {},
   "outputs": [
    {
     "data": {
      "text/plain": [
       "'randomforest_20_7.pdf'"
      ]
     },
     "execution_count": 298,
     "metadata": {},
     "output_type": "execute_result"
    }
   ],
   "source": [
    "features = dfx.columns\n",
    "targetnames = ['unpopular','popular']\n",
    "dot_data = tree.export_graphviz(clf.estimators_[2], out_file=None,feature_names=features,class_names=targetnames,  \n",
    "                         filled=True, rounded=True,  \n",
    "                         special_characters=True) \n",
    "graph = graphviz.Source(dot_data) \n",
    "graph.render(\"randomforest_20_7\")"
   ]
  },
  {
   "cell_type": "code",
   "execution_count": 107,
   "metadata": {
    "collapsed": true
   },
   "outputs": [],
   "source": [
    "targetnames = ['popular','nonpopular']"
   ]
  },
  {
   "cell_type": "code",
   "execution_count": 270,
   "metadata": {},
   "outputs": [
    {
     "data": {
      "text/plain": [
       "[DecisionTreeClassifier(class_weight=None, criterion='entropy', max_depth=2,\n",
       "             max_features='auto', max_leaf_nodes=None,\n",
       "             min_impurity_decrease=0.0, min_impurity_split=None,\n",
       "             min_samples_leaf=1, min_samples_split=2,\n",
       "             min_weight_fraction_leaf=0.0, presort=False,\n",
       "             random_state=209652396, splitter='best'),\n",
       " DecisionTreeClassifier(class_weight=None, criterion='entropy', max_depth=2,\n",
       "             max_features='auto', max_leaf_nodes=None,\n",
       "             min_impurity_decrease=0.0, min_impurity_split=None,\n",
       "             min_samples_leaf=1, min_samples_split=2,\n",
       "             min_weight_fraction_leaf=0.0, presort=False,\n",
       "             random_state=398764591, splitter='best'),\n",
       " DecisionTreeClassifier(class_weight=None, criterion='entropy', max_depth=2,\n",
       "             max_features='auto', max_leaf_nodes=None,\n",
       "             min_impurity_decrease=0.0, min_impurity_split=None,\n",
       "             min_samples_leaf=1, min_samples_split=2,\n",
       "             min_weight_fraction_leaf=0.0, presort=False,\n",
       "             random_state=924231285, splitter='best'),\n",
       " DecisionTreeClassifier(class_weight=None, criterion='entropy', max_depth=2,\n",
       "             max_features='auto', max_leaf_nodes=None,\n",
       "             min_impurity_decrease=0.0, min_impurity_split=None,\n",
       "             min_samples_leaf=1, min_samples_split=2,\n",
       "             min_weight_fraction_leaf=0.0, presort=False,\n",
       "             random_state=1478610112, splitter='best'),\n",
       " DecisionTreeClassifier(class_weight=None, criterion='entropy', max_depth=2,\n",
       "             max_features='auto', max_leaf_nodes=None,\n",
       "             min_impurity_decrease=0.0, min_impurity_split=None,\n",
       "             min_samples_leaf=1, min_samples_split=2,\n",
       "             min_weight_fraction_leaf=0.0, presort=False,\n",
       "             random_state=441365315, splitter='best'),\n",
       " DecisionTreeClassifier(class_weight=None, criterion='entropy', max_depth=2,\n",
       "             max_features='auto', max_leaf_nodes=None,\n",
       "             min_impurity_decrease=0.0, min_impurity_split=None,\n",
       "             min_samples_leaf=1, min_samples_split=2,\n",
       "             min_weight_fraction_leaf=0.0, presort=False,\n",
       "             random_state=1537364731, splitter='best'),\n",
       " DecisionTreeClassifier(class_weight=None, criterion='entropy', max_depth=2,\n",
       "             max_features='auto', max_leaf_nodes=None,\n",
       "             min_impurity_decrease=0.0, min_impurity_split=None,\n",
       "             min_samples_leaf=1, min_samples_split=2,\n",
       "             min_weight_fraction_leaf=0.0, presort=False,\n",
       "             random_state=192771779, splitter='best'),\n",
       " DecisionTreeClassifier(class_weight=None, criterion='entropy', max_depth=2,\n",
       "             max_features='auto', max_leaf_nodes=None,\n",
       "             min_impurity_decrease=0.0, min_impurity_split=None,\n",
       "             min_samples_leaf=1, min_samples_split=2,\n",
       "             min_weight_fraction_leaf=0.0, presort=False,\n",
       "             random_state=1491434855, splitter='best'),\n",
       " DecisionTreeClassifier(class_weight=None, criterion='entropy', max_depth=2,\n",
       "             max_features='auto', max_leaf_nodes=None,\n",
       "             min_impurity_decrease=0.0, min_impurity_split=None,\n",
       "             min_samples_leaf=1, min_samples_split=2,\n",
       "             min_weight_fraction_leaf=0.0, presort=False,\n",
       "             random_state=1819583497, splitter='best'),\n",
       " DecisionTreeClassifier(class_weight=None, criterion='entropy', max_depth=2,\n",
       "             max_features='auto', max_leaf_nodes=None,\n",
       "             min_impurity_decrease=0.0, min_impurity_split=None,\n",
       "             min_samples_leaf=1, min_samples_split=2,\n",
       "             min_weight_fraction_leaf=0.0, presort=False,\n",
       "             random_state=530702035, splitter='best')]"
      ]
     },
     "execution_count": 270,
     "metadata": {},
     "output_type": "execute_result"
    }
   ],
   "source": [
    "clf.estimators_"
   ]
  },
  {
   "cell_type": "code",
   "execution_count": 4,
   "metadata": {},
   "outputs": [
    {
     "data": {
      "text/plain": [
       "array([ 0.03456064,  0.00371937,  0.01781675,  0.02094619,  0.        ,\n",
       "        0.01559615,  0.0141606 ,  0.00574928,  0.00830045,  0.00451624,\n",
       "        0.0051735 ,  0.00120803,  0.00058102,  0.0418135 ,  0.0059673 ,\n",
       "        0.02113337,  0.01677993,  0.04117648,  0.01371671,  0.00917015,\n",
       "        0.0158539 ,  0.01268618,  0.01315569,  0.01479447,  0.03001475,\n",
       "        0.06380168,  0.13129102,  0.06762921,  0.02373672,  0.05376533,\n",
       "        0.00035177,  0.00073176,  0.00134916,  0.00030382,  0.00023984,\n",
       "        0.01992453,  0.00500764,  0.04201653,  0.02033576,  0.02351034,\n",
       "        0.03704048,  0.00947552,  0.02185575,  0.01390142,  0.01661184,\n",
       "        0.01043043,  0.00570417,  0.01058788,  0.00759636,  0.00553387,\n",
       "        0.01145448,  0.00268238,  0.0046393 ,  0.00352468,  0.00341912,\n",
       "        0.00336343,  0.00411496,  0.00280524,  0.00267291])"
      ]
     },
     "execution_count": 4,
     "metadata": {},
     "output_type": "execute_result"
    }
   ],
   "source": [
    "clf.feature_importances_"
   ]
  },
  {
   "cell_type": "code",
   "execution_count": 6,
   "metadata": {
    "collapsed": true
   },
   "outputs": [],
   "source": [
    "vip_features = np.zeros([int(LA.norm(clf.feature_importances_,0)),2])\n",
    "j=0\n",
    "for i in range (0,clf.feature_importances_.shape[0]):\n",
    "    if clf.feature_importances_[i]!=0:\n",
    "        vip_features[j,0] = i\n",
    "        vip_features[j,1] = clf.feature_importances_[i]\n",
    "        j+=1"
   ]
  },
  {
   "cell_type": "code",
   "execution_count": 7,
   "metadata": {},
   "outputs": [
    {
     "data": {
      "text/plain": [
       "(59,)"
      ]
     },
     "execution_count": 7,
     "metadata": {},
     "output_type": "execute_result"
    }
   ],
   "source": [
    "clf.feature_importances_.shape"
   ]
  },
  {
   "cell_type": "code",
   "execution_count": 8,
   "metadata": {},
   "outputs": [
    {
     "data": {
      "text/plain": [
       "array([[  0.00000000e+00,   3.45606386e-02],\n",
       "       [  1.00000000e+00,   3.71937218e-03],\n",
       "       [  2.00000000e+00,   1.78167509e-02],\n",
       "       [  3.00000000e+00,   2.09461893e-02],\n",
       "       [  5.00000000e+00,   1.55961535e-02],\n",
       "       [  6.00000000e+00,   1.41606031e-02],\n",
       "       [  7.00000000e+00,   5.74927981e-03],\n",
       "       [  8.00000000e+00,   8.30045264e-03],\n",
       "       [  9.00000000e+00,   4.51624089e-03],\n",
       "       [  1.00000000e+01,   5.17349577e-03],\n",
       "       [  1.10000000e+01,   1.20803383e-03],\n",
       "       [  1.20000000e+01,   5.81019163e-04],\n",
       "       [  1.30000000e+01,   4.18135014e-02],\n",
       "       [  1.40000000e+01,   5.96729638e-03],\n",
       "       [  1.50000000e+01,   2.11333732e-02],\n",
       "       [  1.60000000e+01,   1.67799268e-02],\n",
       "       [  1.70000000e+01,   4.11764835e-02],\n",
       "       [  1.80000000e+01,   1.37167109e-02],\n",
       "       [  1.90000000e+01,   9.17014722e-03],\n",
       "       [  2.00000000e+01,   1.58539034e-02],\n",
       "       [  2.10000000e+01,   1.26861812e-02],\n",
       "       [  2.20000000e+01,   1.31556907e-02],\n",
       "       [  2.30000000e+01,   1.47944725e-02],\n",
       "       [  2.40000000e+01,   3.00147504e-02],\n",
       "       [  2.50000000e+01,   6.38016767e-02],\n",
       "       [  2.60000000e+01,   1.31291016e-01],\n",
       "       [  2.70000000e+01,   6.76292074e-02],\n",
       "       [  2.80000000e+01,   2.37367209e-02],\n",
       "       [  2.90000000e+01,   5.37653320e-02],\n",
       "       [  3.00000000e+01,   3.51772019e-04],\n",
       "       [  3.10000000e+01,   7.31758906e-04],\n",
       "       [  3.20000000e+01,   1.34916323e-03],\n",
       "       [  3.30000000e+01,   3.03822270e-04],\n",
       "       [  3.40000000e+01,   2.39839321e-04],\n",
       "       [  3.50000000e+01,   1.99245286e-02],\n",
       "       [  3.60000000e+01,   5.00763891e-03],\n",
       "       [  3.70000000e+01,   4.20165291e-02],\n",
       "       [  3.80000000e+01,   2.03357567e-02],\n",
       "       [  3.90000000e+01,   2.35103433e-02],\n",
       "       [  4.00000000e+01,   3.70404828e-02],\n",
       "       [  4.10000000e+01,   9.47552457e-03],\n",
       "       [  4.20000000e+01,   2.18557534e-02],\n",
       "       [  4.30000000e+01,   1.39014169e-02],\n",
       "       [  4.40000000e+01,   1.66118439e-02],\n",
       "       [  4.50000000e+01,   1.04304254e-02],\n",
       "       [  4.60000000e+01,   5.70417342e-03],\n",
       "       [  4.70000000e+01,   1.05878813e-02],\n",
       "       [  4.80000000e+01,   7.59635613e-03],\n",
       "       [  4.90000000e+01,   5.53386992e-03],\n",
       "       [  5.00000000e+01,   1.14544815e-02],\n",
       "       [  5.10000000e+01,   2.68237824e-03],\n",
       "       [  5.20000000e+01,   4.63929947e-03],\n",
       "       [  5.30000000e+01,   3.52467738e-03],\n",
       "       [  5.40000000e+01,   3.41911906e-03],\n",
       "       [  5.50000000e+01,   3.36343386e-03],\n",
       "       [  5.60000000e+01,   4.11496313e-03],\n",
       "       [  5.70000000e+01,   2.80523561e-03],\n",
       "       [  5.80000000e+01,   2.67291141e-03]])"
      ]
     },
     "execution_count": 8,
     "metadata": {},
     "output_type": "execute_result"
    }
   ],
   "source": [
    "vip_features"
   ]
  },
  {
   "cell_type": "markdown",
   "metadata": {},
   "source": [
    "## Logistic regression with random forest features"
   ]
  },
  {
   "cell_type": "code",
   "execution_count": 9,
   "metadata": {
    "collapsed": true
   },
   "outputs": [],
   "source": [
    "my_data = np.copy(data)\n",
    "datax = my_data[:,vip_features[:,0].astype(int)]\n",
    "datay = my_data[:,my_data.shape[1]-1]\n",
    "for j in range(0,datay.shape[0]):\n",
    "    if datay[j] >1400:\n",
    "        datay[j] =1\n",
    "    else:\n",
    "        datay[j] =0\n",
    "        \n",
    "datax_train = datax[:int(datax.shape[0]*3/4),:]\n",
    "datay_train = datay[:int(datay.shape[0]*3/4)]\n",
    "\n",
    "datax_test = datax[int(datax.shape[0]*3/4):,:]\n",
    "datay_test = datay[int(datay.shape[0]*3/4):]"
   ]
  },
  {
   "cell_type": "code",
   "execution_count": 10,
   "metadata": {},
   "outputs": [
    {
     "data": {
      "text/plain": [
       "0.67063623332230671"
      ]
     },
     "execution_count": 10,
     "metadata": {},
     "output_type": "execute_result"
    }
   ],
   "source": [
    "clf = RandomForestClassifier(max_depth=7, random_state=0)\n",
    "clf.fit(datax_train, datay_train)\n",
    "clf.score(datax_test,datay_test)"
   ]
  },
  {
   "cell_type": "code",
   "execution_count": 11,
   "metadata": {},
   "outputs": [
    {
     "data": {
      "text/plain": [
       "0.63535119638328375"
      ]
     },
     "execution_count": 11,
     "metadata": {},
     "output_type": "execute_result"
    }
   ],
   "source": [
    "from sklearn.linear_model import LogisticRegression\n",
    "lr = LogisticRegression()\n",
    "lr.fit(datax_train, datay_train) \n",
    "lr.score(datax_test, datay_test) "
   ]
  },
  {
   "cell_type": "code",
   "execution_count": 12,
   "metadata": {},
   "outputs": [
    {
     "data": {
      "image/png": "[encoded data removed]",
      "text/plain": [
       "<matplotlib.figure.Figure at 0x1f9b77daa20>"
      ]
     },
     "metadata": {},
     "output_type": "display_data"
    }
   ],
   "source": [
    "from sklearn.linear_model import LogisticRegression\n",
    "from sklearn.decomposition import PCA\n",
    "myscores = np.zeros(datax_train.shape[1])\n",
    "for i in range(1,datax_train.shape[1]+1):\n",
    "    pca = PCA(n_components=i) \n",
    "    lr = LogisticRegression() \n",
    "    X_train_pca = pca.fit_transform(datax_train) \n",
    "    X_test_pca = pca.transform(datax_test) \n",
    "    lr.fit(X_train_pca, datay_train) \n",
    "    score = lr.score(X_test_pca, datay_test) \n",
    "    myscores[i-1] = score \n",
    "    plt.plot(i,score,'ro',c='gold',markersize = 3)\n",
    "plt.show()"
   ]
  },
  {
   "cell_type": "code",
   "execution_count": 16,
   "metadata": {},
   "outputs": [
    {
     "data": {
      "text/plain": [
       "array([ 0.54757967,  0.57018414,  0.5831955 ,  0.58132098,  0.58892932,\n",
       "        0.59444261,  0.59190649,  0.60249201,  0.60138935,  0.60800529,\n",
       "        0.6185908 ,  0.61737788,  0.61715735,  0.61649575,  0.61616496,\n",
       "        0.61583416,  0.61671629,  0.61682655,  0.61638549,  0.61792921,\n",
       "        0.62884552,  0.61660602,  0.62035506,  0.63976183,  0.61848054,\n",
       "        0.63424854,  0.66247657,  0.6346896 ,  0.62068585,  0.64163634,\n",
       "        0.62123718,  0.63579226,  0.61616496,  0.63281508,  0.6311611 ,\n",
       "        0.63303562,  0.6189216 ,  0.65001654,  0.61870107,  0.62421436,\n",
       "        0.61660602,  0.61848054,  0.67140809,  0.61649575,  0.66424082,\n",
       "        0.6311611 ,  0.61914213,  0.63843864,  0.61737788,  0.62355276,\n",
       "        0.62156798,  0.62465542,  0.62222957,  0.61605469,  0.61605469,\n",
       "        0.61605469,  0.61605469,  0.61605469])"
      ]
     },
     "execution_count": 16,
     "metadata": {},
     "output_type": "execute_result"
    }
   ],
   "source": [
    "myscores"
   ]
  },
  {
   "cell_type": "markdown",
   "metadata": {},
   "source": [
    "## Try online learning"
   ]
  },
  {
   "cell_type": "code",
   "execution_count": 176,
   "metadata": {},
   "outputs": [
    {
     "data": {
      "image/png": "[encoded data removed]",
      "text/plain": [
       "<matplotlib.figure.Figure at 0x228316c1e80>"
      ]
     },
     "metadata": {},
     "output_type": "display_data"
    }
   ],
   "source": [
    "t=1\n",
    "pt = np.ones(datax.shape[1])/datax.shape[1]\n",
    "b=0.0000000001\n",
    "steps = datax.shape[0]\n",
    "steps = 25000\n",
    "iterLoss = np.zeros(datax.shape[0])\n",
    "for j in range(0,steps):\n",
    "    iterLoss[j] = np.square(np.sum(np.multiply(datax[j,:] , pt))-datay[j])\n",
    "    for i in range(0,datax.shape[1]):\n",
    "        loss = np.square(datax[j,i]-datay[j])\n",
    "        pt[i] = pt[i]*np.power(np.exp(1),(-b * loss))\n",
    "    pt = pt/np.sum(pt)\n",
    "\n",
    "lt = np.zeros(datax.shape[0])\n",
    "for j in range(0,steps):\n",
    "    for i in range(0,j):\n",
    "        lt[j]+= iterLoss[i]\n",
    "    lt[j]=lt[j]/(j+1)\n",
    "    plt.plot(j,lt[j],'ro',c='r',markersize = 1)\n",
    "plt.show()"
   ]
  },
  {
   "cell_type": "code",
   "execution_count": 177,
   "metadata": {},
   "outputs": [
    {
     "data": {
      "text/plain": [
       "30313.001531957532"
      ]
     },
     "execution_count": 177,
     "metadata": {},
     "output_type": "execute_result"
    }
   ],
   "source": [
    "lt[j]"
   ]
  },
  {
   "cell_type": "code",
   "execution_count": 200,
   "metadata": {},
   "outputs": [
    {
     "data": {
      "image/png": "[encoded data removed]",
      "text/plain": [
       "<matplotlib.figure.Figure at 0x228319714a8>"
      ]
     },
     "metadata": {},
     "output_type": "display_data"
    }
   ],
   "source": [
    "t=1\n",
    "pt = np.ones(datax.shape[1])/datax.shape[1]\n",
    "b=0.1\n",
    "steps = datax.shape[0]\n",
    "steps = 25000\n",
    "iterLoss = np.zeros(datax.shape[0])\n",
    "for j in range(0,steps):\n",
    "    iterLoss[j] = np.square(np.sum(np.multiply(datax[j,:] , pt))-datay[j])\n",
    "    for i in range(0,datax.shape[1]):\n",
    "        loss = np.square(datax[j,i]-datay[j])\n",
    "        pt[i] = pt[i]*np.power(np.exp(1),(-b * loss))\n",
    "    pt = pt/np.sum(pt)\n",
    "\n",
    "lt = np.zeros(datax.shape[0])\n",
    "for j in range(0,steps):\n",
    "    for i in range(0,j):\n",
    "        lt[j]+= iterLoss[i]\n",
    "    lt[j]=lt[j]/(j+1)\n",
    "    plt.plot(j,lt[j],'ro',c='r',markersize = 1)\n",
    "plt.show()"
   ]
  },
  {
   "cell_type": "code",
   "execution_count": 201,
   "metadata": {},
   "outputs": [
    {
     "data": {
      "text/plain": [
       "24.403063663486691"
      ]
     },
     "execution_count": 201,
     "metadata": {},
     "output_type": "execute_result"
    }
   ],
   "source": [
    "lt[j]"
   ]
  },
  {
   "cell_type": "code",
   "execution_count": 202,
   "metadata": {},
   "outputs": [
    {
     "data": {
      "text/plain": [
       "0.8666666666670001"
      ]
     },
     "execution_count": 202,
     "metadata": {},
     "output_type": "execute_result"
    }
   ],
   "source": [
    "np.dot(datax[2500,:],pt)"
   ]
  },
  {
   "cell_type": "code",
   "execution_count": 210,
   "metadata": {},
   "outputs": [
    {
     "data": {
      "text/plain": [
       "0.5471386040357261"
      ]
     },
     "execution_count": 210,
     "metadata": {},
     "output_type": "execute_result"
    }
   ],
   "source": [
    "matches = 0\n",
    "for i in range (datax_test.shape[0]):\n",
    "    y_pred = np.dot(datax[i,:],pt)\n",
    "    if y_pred <2:\n",
    "        y_pred =0\n",
    "    else:\n",
    "        y_pred = 1\n",
    "    if y_pred == datay_test[i]:\n",
    "        matches+=1\n",
    "matches/datax_test.shape[0]"
   ]
  },
  {
   "cell_type": "markdown",
   "metadata": {},
   "source": [
    "## Regression"
   ]
  },
  {
   "cell_type": "code",
   "execution_count": 238,
   "metadata": {
    "collapsed": true
   },
   "outputs": [],
   "source": [
    "df = pd.read_csv('OnlineNewsPopularity.csv')\n",
    "df = df.loc[:, ' timedelta':]\n",
    "dfx = df.loc[:, ' timedelta':' abs_title_sentiment_polarity']\n",
    "dfy = df.loc[:, ' shares']\n",
    "\n",
    "data = df.as_matrix(columns=None)\n",
    "\n",
    "data = data[data[:,3]<1]\n",
    "\n",
    "c = np.array([10,19,43,44,45,47,48,49,52])\n",
    "for i in c:\n",
    "    data = data[data[:,i]!=0]\n",
    "\n",
    "c = np.array([2,6,7,8,9,21,25,26,27,28,29,38,39,40,41,42,46,59])\n",
    "for i in c:\n",
    "    if (LA.norm(data[:,i],0)==data[:,i].shape):\n",
    "        data[:,i] = np.log(data[:,i])\n",
    "    else:\n",
    "        data[:,i] = np.sqrt(data[:,i])\n",
    "# eliminate unvalid data\n",
    "#c = np.array([18,20,22,24])\n",
    "#data = np.delete(data, c, 1)\n",
    "\n",
    "# pre eliminate unvalid and unuseful features\n",
    "#c = np.array([12,13,14,15,16,17,18,20,22,24,30,31,32,33,34,35,36,37])\n",
    "#data = np.delete(data, c, 1)\n",
    "\n",
    "my_data = np.copy(data)\n",
    "datax = my_data[:,vip_features[:,0].astype(int)]\n",
    "datay = my_data[:,my_data.shape[1]-1]\n",
    "        \n",
    "datax_train = datax[:int(datax.shape[0]*3/4),:]\n",
    "datay_train = datay[:int(datay.shape[0]*3/4)]\n",
    "\n",
    "datax_test = datax[int(datax.shape[0]*3/4):,:]\n",
    "datay_test = datay[int(datay.shape[0]*3/4):]"
   ]
  },
  {
   "cell_type": "code",
   "execution_count": 220,
   "metadata": {},
   "outputs": [
    {
     "data": {
      "image/png": "[encoded data removed]",
      "text/plain": [
       "<matplotlib.figure.Figure at 0x22859326fd0>"
      ]
     },
     "metadata": {},
     "output_type": "display_data"
    }
   ],
   "source": [
    "t=1\n",
    "pt = np.ones(datax_train.shape[1])/datax_train.shape[1]\n",
    "b=0.1\n",
    "steps = datax_train.shape[0]\n",
    "steps = 7000\n",
    "iterLoss = np.zeros(datax_train.shape[0])\n",
    "for j in range(0,steps):\n",
    "    iterLoss[j] = np.square(np.sum(np.multiply(datax_train[j,:] , pt))-datay_train[j])\n",
    "    for i in range(0,datax_train.shape[1]):\n",
    "        loss = np.square(datax_train[j,i]-datay_train[j])\n",
    "        pt[i] = pt[i]*np.power(np.exp(1),(-b * loss))\n",
    "    pt = pt/np.sum(pt)\n",
    "\n",
    "lt = np.zeros(datax_train.shape[0])\n",
    "for j in range(0,steps):\n",
    "    for i in range(0,j):\n",
    "        lt[j]+= iterLoss[i]\n",
    "    lt[j]=lt[j]/(j+1)\n",
    "    plt.plot(j,lt[j],'ro',c='r',markersize = 1)\n",
    "plt.show()"
   ]
  },
  {
   "cell_type": "code",
   "execution_count": 221,
   "metadata": {},
   "outputs": [
    {
     "data": {
      "text/plain": [
       "11.240456499179764"
      ]
     },
     "execution_count": 221,
     "metadata": {},
     "output_type": "execute_result"
    }
   ],
   "source": [
    "lt[j]"
   ]
  },
  {
   "cell_type": "code",
   "execution_count": 224,
   "metadata": {},
   "outputs": [
    {
     "data": {
      "text/plain": [
       "0.49807034954239715"
      ]
     },
     "execution_count": 224,
     "metadata": {},
     "output_type": "execute_result"
    }
   ],
   "source": [
    "matches = 0\n",
    "for i in range (datax_test.shape[0]):\n",
    "    y_pred = np.dot(datax_test[i,:],pt)\n",
    "    if y_pred <np.log(1400):\n",
    "        y_pred =0\n",
    "    else:\n",
    "        y_pred = 1\n",
    "    y_test = 1\n",
    "    if datay_test[i] <np.log(1400):\n",
    "        y_test =0\n",
    "    if y_pred == y_test:\n",
    "        matches+=1\n",
    "matches/datax_test.shape[0]"
   ]
  },
  {
   "cell_type": "code",
   "execution_count": 217,
   "metadata": {},
   "outputs": [
    {
     "data": {
      "text/plain": [
       "1.0986122886681098"
      ]
     },
     "execution_count": 217,
     "metadata": {},
     "output_type": "execute_result"
    }
   ],
   "source": [
    "np.log(3)"
   ]
  },
  {
   "cell_type": "code",
   "execution_count": 223,
   "metadata": {},
   "outputs": [
    {
     "data": {
      "text/plain": [
       "array([  0.00000000e+000,   0.00000000e+000,   0.00000000e+000,\n",
       "         0.00000000e+000,   0.00000000e+000,   0.00000000e+000,\n",
       "         0.00000000e+000,   4.52234585e-186,   1.00000000e+000,\n",
       "         0.00000000e+000,   0.00000000e+000,   0.00000000e+000,\n",
       "         0.00000000e+000,   0.00000000e+000,   0.00000000e+000,\n",
       "         0.00000000e+000,   0.00000000e+000,   0.00000000e+000])"
      ]
     },
     "execution_count": 223,
     "metadata": {},
     "output_type": "execute_result"
    }
   ],
   "source": [
    "pt"
   ]
  },
  {
   "cell_type": "markdown",
   "metadata": {},
   "source": [
    "## linear regression"
   ]
  },
  {
   "cell_type": "code",
   "execution_count": 258,
   "metadata": {
    "collapsed": true
   },
   "outputs": [],
   "source": [
    "df = pd.read_csv('OnlineNewsPopularity.csv')\n",
    "df = df.loc[:, ' timedelta':]\n",
    "dfx = df.loc[:, ' timedelta':' abs_title_sentiment_polarity']\n",
    "dfy = df.loc[:, ' shares']\n",
    "\n",
    "data = df.as_matrix(columns=None)\n",
    "\n",
    "data = data[data[:,3]<1]\n",
    "\n",
    "c = np.array([10,19,43,44,45,47,48,49,52])\n",
    "for i in c:\n",
    "    data = data[data[:,i]!=0]\n",
    "\n",
    "c = np.array([2,6,7,8,9,21,25,26,27,28,29,38,39,40,41,42,46,59])\n",
    "for i in c:\n",
    "    if (LA.norm(data[:,i],0)==data[:,i].shape):\n",
    "        data[:,i] = np.log(data[:,i])\n",
    "    else:\n",
    "        data[:,i] = np.sqrt(data[:,i])\n",
    "\n",
    "# eliminate unvalid data\n",
    "c = np.array([18,20,22,24])\n",
    "data = np.delete(data, c, 1)\n",
    "\n",
    "# pre eliminate unvalid and unuseful features\n",
    "c = np.array([12,13,14,15,16,17,18,20,22,24,30,31,32,33,34,35,36,37])\n",
    "data = np.delete(data, c, 1)\n",
    "\n",
    "my_data = np.copy(data)\n",
    "datax = my_data[:,:my_data.shape[1]-1]\n",
    "datay = my_data[:,my_data.shape[1]-1]\n",
    "        \n",
    "datax_train = datax[:int(datax.shape[0]*3/4),:]\n",
    "datay_train = datay[:int(datay.shape[0]*3/4)]\n",
    "\n",
    "datax_test = datax[int(datax.shape[0]*3/4):,:]\n",
    "datay_test = datay[int(datay.shape[0]*3/4):]"
   ]
  },
  {
   "cell_type": "code",
   "execution_count": 259,
   "metadata": {},
   "outputs": [
    {
     "data": {
      "text/plain": [
       "0.10859462844554102"
      ]
     },
     "execution_count": 259,
     "metadata": {},
     "output_type": "execute_result"
    }
   ],
   "source": [
    "from sklearn import linear_model\n",
    "lr = linear_model.LinearRegression()\n",
    "lr.fit(datax_train,datay_train)\n",
    "lr.score(datax_test, datay_test)"
   ]
  },
  {
   "cell_type": "code",
   "execution_count": 262,
   "metadata": {},
   "outputs": [
    {
     "data": {
      "text/plain": [
       "0.5028117763810784"
      ]
     },
     "execution_count": 262,
     "metadata": {},
     "output_type": "execute_result"
    }
   ],
   "source": [
    "matches = 0\n",
    "for i in range (datax_test.shape[0]):\n",
    "    y_pred = np.dot(datax_test[i,:],lr.coef_)\n",
    "    if y_pred <np.log(1400):\n",
    "        y_pred =0\n",
    "    else:\n",
    "        y_pred = 1\n",
    "    y_test = 1\n",
    "    if datay_test[i] <np.log(1400):\n",
    "        y_test =0\n",
    "    if y_pred == y_test:\n",
    "        matches+=1\n",
    "matches/datax_test.shape[0]"
   ]
  },
  {
   "cell_type": "code",
   "execution_count": 261,
   "metadata": {},
   "outputs": [
    {
     "data": {
      "text/plain": [
       "0.10879726608806328"
      ]
     },
     "execution_count": 261,
     "metadata": {},
     "output_type": "execute_result"
    }
   ],
   "source": [
    "lr = linear_model.Ridge(alpha=1)\n",
    "lr.fit(datax_train,datay_train)\n",
    "lr.score(datax_test, datay_test)"
   ]
  },
  {
   "cell_type": "code",
   "execution_count": null,
   "metadata": {
    "collapsed": true
   },
   "outputs": [],
   "source": []
  }
 ],
 "metadata": {
  "kernelspec": {
   "display_name": "Python 3",
   "language": "python",
   "name": "python3"
  },
  "language_info": {
   "codemirror_mode": {
    "name": "ipython",
    "version": 3
   },
   "file_extension": ".py",
   "mimetype": "text/x-python",
   "name": "python",
   "nbconvert_exporter": "python",
   "pygments_lexer": "ipython3",
   "version": "3.6.2"
  }
 },
 "nbformat": 4,
 "nbformat_minor": 2
}
