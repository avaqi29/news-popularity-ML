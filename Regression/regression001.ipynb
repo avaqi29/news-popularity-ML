{
 "cells": [
  {
   "cell_type": "markdown",
   "metadata": {},
   "source": [
    "# Regressions on the whole features"
   ]
  },
  {
   "cell_type": "code",
   "execution_count": 43,
   "metadata": {
    "collapsed": true
   },
   "outputs": [],
   "source": [
    "import pandas as pd\n",
    "import numpy as np\n",
    "import matplotlib.pyplot as plt\n",
    "import math as mt\n",
    "from numpy import genfromtxt\n",
    "from numpy import linalg as LA\n",
    "from sklearn import linear_model\n",
    "from sklearn.metrics import mean_squared_error\n",
    "from numpy import ma"
   ]
  },
  {
   "cell_type": "code",
   "execution_count": 44,
   "metadata": {
    "collapsed": true
   },
   "outputs": [],
   "source": [
    "df = pd.read_csv('OnlineNewsPopularity.csv')\n",
    "dfx = df.loc[:, ' timedelta':' abs_title_sentiment_polarity']\n",
    "dfy = df.loc[:, ' shares']\n",
    "\n",
    "datax = dfx.as_matrix(columns=None)\n",
    "datay = dfy.as_matrix(columns=None)"
   ]
  },
  {
   "cell_type": "code",
   "execution_count": 52,
   "metadata": {
    "collapsed": true
   },
   "outputs": [],
   "source": [
    "datax_cov = np.cov(datax,rowvar=False)\n",
    "data_eigvals, data_eigvecs = np.linalg.eig(datax_cov)\n",
    "\n",
    "matrix_A = data_eigvecs[:,:10]\n",
    "#matrix_A = np.transpose(matrix_A)\n",
    "data_PCA = np.dot(datax,matrix_A)\n",
    "datax = data_PCA"
   ]
  },
  {
   "cell_type": "code",
   "execution_count": 53,
   "metadata": {
    "collapsed": true
   },
   "outputs": [],
   "source": [
    "temp = np.ones((datax.shape[0],datax.shape[1]+1))\n",
    "temp[:,:-1] = datax\n",
    "datax = temp\n",
    "\n",
    "trainX = datax[:int(datax.shape[0]*3/4),:]\n",
    "trainY = datay[:int(datay.shape[0]*3/4)]\n",
    "\n",
    "testX = datax[int(datax.shape[0]*3/4):,:]\n",
    "testY = datay[int(datay.shape[0]*3/4):]"
   ]
  },
  {
   "cell_type": "markdown",
   "metadata": {},
   "source": [
    "### LASSO regrssion"
   ]
  },
  {
   "cell_type": "code",
   "execution_count": 62,
   "metadata": {},
   "outputs": [
    {
     "data": {
      "image/png": "[encoded data removed]",
      "text/plain": [
       "<matplotlib.figure.Figure at 0x19cee18e7b8>"
      ]
     },
     "metadata": {},
     "output_type": "display_data"
    }
   ],
   "source": [
    "myprams = [1, 10, 100, 1000, 10000]\n",
    "nonzeros = np.zeros((5,2))\n",
    "testerrors = np.zeros((5,2))\n",
    "j =0\n",
    "minnonz = 500\n",
    "minloss = 500\n",
    "wl_b = 0\n",
    "wl_d = 0\n",
    "for i in myprams:\n",
    "    clf = linear_model.Lasso(alpha=i)\n",
    "    clf.fit(trainX,trainY)\n",
    "    nonzeros[j,0] = i\n",
    "    nonzeros[j,1] = LA.norm(clf.coef_,0)\n",
    "    y_pre = np.dot(testX,clf.coef_)\n",
    "    testerrors[j,0] = i\n",
    "    testerrors[j,1] = mean_squared_error(testY, y_pre)\n",
    "    if LA.norm(clf.coef_,0)!=0:\n",
    "        if LA.norm(clf.coef_,0)<minnonz:\n",
    "            minnonz = LA.norm(clf.coef_,0)\n",
    "            wl_b = i\n",
    "        if mean_squared_error(testY, y_pre)<minloss:\n",
    "            minloss = mean_squared_error(testY, y_pre)\n",
    "            wl_d = i\n",
    "    plt.plot(i,LA.norm(clf.coef_,0),'ro',c='gold',markersize = 3)\n",
    "    j+=1\n",
    "plt.show()"
   ]
  },
  {
   "cell_type": "code",
   "execution_count": 63,
   "metadata": {},
   "outputs": [
    {
     "data": {
      "image/png": "[encoded data removed]",
      "text/plain": [
       "<matplotlib.figure.Figure at 0x19ceb1381d0>"
      ]
     },
     "metadata": {},
     "output_type": "display_data"
    }
   ],
   "source": [
    "plt.plot(testerrors[:,0],testerrors[:,1],'ro',c='gold',markersize = 3)\n",
    "plt.show()"
   ]
  },
  {
   "cell_type": "code",
   "execution_count": 64,
   "metadata": {
    "scrolled": true
   },
   "outputs": [
    {
     "data": {
      "text/plain": [
       "array([[  1.00000000e+00,   5.83472649e+07],\n",
       "       [  1.00000000e+01,   5.83472566e+07],\n",
       "       [  1.00000000e+02,   5.83471742e+07],\n",
       "       [  1.00000000e+03,   5.83463730e+07],\n",
       "       [  1.00000000e+04,   5.83407111e+07]])"
      ]
     },
     "execution_count": 64,
     "metadata": {},
     "output_type": "execute_result"
    }
   ],
   "source": [
    "testerrors"
   ]
  },
  {
   "cell_type": "markdown",
   "metadata": {},
   "source": [
    "### Ridge regrssion"
   ]
  },
  {
   "cell_type": "code",
   "execution_count": 65,
   "metadata": {},
   "outputs": [
    {
     "data": {
      "image/png": "[encoded data removed]",
      "text/plain": [
       "<matplotlib.figure.Figure at 0x19ceb04e198>"
      ]
     },
     "metadata": {},
     "output_type": "display_data"
    }
   ],
   "source": [
    "myprams = [10, 500, 1000, 2000, 10000]\n",
    "nonzeros = np.zeros((5,2))\n",
    "testerrors = np.zeros((5,2))\n",
    "j =0\n",
    "minnonz = 500\n",
    "minloss = 500\n",
    "wr_b = 0\n",
    "wr_d = 0\n",
    "for i in myprams:\n",
    "    clf = linear_model.Ridge(alpha=i)\n",
    "    clf.fit(trainX,trainY)\n",
    "    nonzeros[j,0] = i\n",
    "    nonzeros[j,1] = LA.norm(clf.coef_,0)\n",
    "    y_pre = np.dot(testX,np.transpose(clf.coef_))\n",
    "    testerrors[j,0] = i\n",
    "    testerrors[j,1] = mean_squared_error(testY, y_pre)\n",
    "    if LA.norm(clf.coef_,0)!=0:\n",
    "        if LA.norm(clf.coef_,0)<minnonz:\n",
    "            minnonz = LA.norm(clf.coef_,0)\n",
    "            wr_b = i\n",
    "        if mean_squared_error(testY, y_pre)<minloss:\n",
    "            minloss = mean_squared_error(testY, y_pre)\n",
    "            wr_d = i\n",
    "    plt.plot(i,LA.norm(clf.coef_,0),'ro',c='gold',markersize = 3)\n",
    "    j+=1\n",
    "plt.show()"
   ]
  },
  {
   "cell_type": "code",
   "execution_count": 66,
   "metadata": {},
   "outputs": [
    {
     "data": {
      "image/png": "[encoded data removed]",
      "text/plain": [
       "<matplotlib.figure.Figure at 0x19cedaca320>"
      ]
     },
     "metadata": {},
     "output_type": "display_data"
    }
   ],
   "source": [
    "plt.plot(testerrors[:,0],testerrors[:,1],'ro',c='gold',markersize = 3)\n",
    "plt.show()"
   ]
  },
  {
   "cell_type": "code",
   "execution_count": 67,
   "metadata": {
    "scrolled": true
   },
   "outputs": [
    {
     "data": {
      "text/plain": [
       "array([[  1.00000000e+01,   5.83472658e+07],\n",
       "       [  5.00000000e+02,   5.83472658e+07],\n",
       "       [  1.00000000e+03,   5.83472658e+07],\n",
       "       [  2.00000000e+03,   5.83472657e+07],\n",
       "       [  1.00000000e+04,   5.83472655e+07]])"
      ]
     },
     "execution_count": 67,
     "metadata": {},
     "output_type": "execute_result"
    }
   ],
   "source": [
    "testerrors"
   ]
  },
  {
   "cell_type": "code",
   "execution_count": null,
   "metadata": {
    "collapsed": true
   },
   "outputs": [],
   "source": []
  }
 ],
 "metadata": {
  "kernelspec": {
   "display_name": "Python 3",
   "language": "python",
   "name": "python3"
  },
  "language_info": {
   "codemirror_mode": {
    "name": "ipython",
    "version": 3
   },
   "file_extension": ".py",
   "mimetype": "text/x-python",
   "name": "python",
   "nbconvert_exporter": "python",
   "pygments_lexer": "ipython3",
   "version": "3.6.2"
  }
 },
 "nbformat": 4,
 "nbformat_minor": 2
}
