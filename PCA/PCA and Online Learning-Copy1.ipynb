{
 "cells": [
  {
   "cell_type": "markdown",
   "metadata": {},
   "source": [
    "# PCA and online learning"
   ]
  },
  {
   "cell_type": "code",
   "execution_count": 1,
   "metadata": {
    "collapsed": true
   },
   "outputs": [],
   "source": [
    "import pandas as pd\n",
    "import numpy as np\n",
    "import matplotlib.pyplot as plt\n",
    "import math as mt\n",
    "from numpy import genfromtxt\n",
    "from numpy import linalg as LA"
   ]
  },
  {
   "cell_type": "code",
   "execution_count": 2,
   "metadata": {
    "collapsed": true
   },
   "outputs": [],
   "source": [
    "df = pd.read_csv('OnlineNewsPopularity.csv')\n",
    "dfx = df.loc[:, ' timedelta':' abs_title_sentiment_polarity']\n",
    "dfy = df.loc[:, ' shares']\n",
    "\n",
    "datax = dfx.as_matrix(columns=None)\n",
    "datay = dfy.as_matrix(columns=None)"
   ]
  },
  {
   "cell_type": "code",
   "execution_count": 3,
   "metadata": {
    "collapsed": true
   },
   "outputs": [],
   "source": [
    "datax_train = datax[:int(datax.shape[0]*3/4),:]\n",
    "datay_train = datay[:int(datay.shape[0]*3/4)]\n",
    "\n",
    "datax_test = datax[int(datax.shape[0]*3/4):,:]\n",
    "datay_test = datay[int(datay.shape[0]*3/4):]"
   ]
  },
  {
   "cell_type": "code",
   "execution_count": 4,
   "metadata": {},
   "outputs": [
    {
     "data": {
      "text/plain": [
       "array([[  2.86299585e+04,  -6.24420735e+01,  -7.60029964e+03, ...,\n",
       "          1.64098568e+00,   6.54742786e-01,  -5.70089318e-02],\n",
       "       [ -6.24420735e+01,   4.18129612e+00,   9.89294893e+00, ...,\n",
       "          2.11930336e-03,  -5.98025633e-02,   2.19633193e-02],\n",
       "       [ -7.60029964e+03,   9.89294893e+00,   2.22327831e+05, ...,\n",
       "          3.76238427e+00,   9.19257015e-01,   1.81347775e+00],\n",
       "       ..., \n",
       "       [  1.64098568e+00,   2.11930336e-03,   3.76238427e+00, ...,\n",
       "          6.98118388e-02,  -1.25288112e-02,   2.60799830e-02],\n",
       "       [  6.54742786e-01,  -5.98025633e-02,   9.19257015e-01, ...,\n",
       "         -1.25288112e-02,   3.58526617e-02,  -1.75878765e-02],\n",
       "       [ -5.70089318e-02,   2.19633193e-02,   1.81347775e+00, ...,\n",
       "          2.60799830e-02,  -1.75878765e-02,   5.11680417e-02]])"
      ]
     },
     "execution_count": 4,
     "metadata": {},
     "output_type": "execute_result"
    }
   ],
   "source": [
    "datax_train_cov = np.cov(datax_train,rowvar=False)\n",
    "datax_train_cov"
   ]
  },
  {
   "cell_type": "code",
   "execution_count": 5,
   "metadata": {},
   "outputs": [
    {
     "data": {
      "text/plain": [
       "array([  6.55575831e+10,   1.10935997e+10,   2.65462044e+09,\n",
       "         2.37130930e+09,   3.97546184e+08,   4.99705756e+07,\n",
       "         2.31316833e+07,   9.02267925e+06,   1.18608234e+06,\n",
       "         2.37062861e+05,   2.11357317e+05,   4.36047828e+04,\n",
       "         1.40121503e+04,   1.66158936e+03,   1.02362747e+02,\n",
       "         5.55785247e+01,   1.58677831e+01,   1.20465593e+01,\n",
       "         3.97972431e+00,   2.61544736e+00,   3.42646241e-01,\n",
       "         2.49859730e-01,   2.19609248e-01,   1.94436124e-01,\n",
       "         1.83606361e-01,   1.87245367e-01,   1.85524224e-01,\n",
       "         1.69840795e-01,   1.53902019e-01,   1.48386381e-01,\n",
       "         8.54691129e-02,   8.00073610e-02,   6.65264801e-02,\n",
       "         6.51966018e-02,   5.69659643e-02,   5.45707201e-02,\n",
       "         4.60500506e-02,   2.79991623e-02,   2.62731557e-02,\n",
       "         2.40030416e-02,   2.29816805e-02,   1.96999496e-02,\n",
       "         1.59505160e-02,   1.26824070e-02,   1.03540823e-02,\n",
       "         7.17659207e-03,   5.79900252e-03,   4.75672470e-03,\n",
       "         2.48825294e-03,   2.09633801e-03,   1.51313872e-03,\n",
       "         9.06902010e-04,   5.75932993e-04,   1.41171569e-04,\n",
       "         3.33048499e-05,   1.60105696e-05,  -2.03157619e-17,\n",
       "        -1.60885434e-16,   6.73069411e-17])"
      ]
     },
     "execution_count": 5,
     "metadata": {},
     "output_type": "execute_result"
    }
   ],
   "source": [
    "data_eigvals, data_eigvecs = np.linalg.eig(datax_train_cov)\n",
    "data_eigvals"
   ]
  },
  {
   "cell_type": "code",
   "execution_count": 6,
   "metadata": {},
   "outputs": [
    {
     "data": {
      "text/plain": [
       "array([[ -4.65834329e-04,   4.14575430e-06,  -5.09082626e-05, ...,\n",
       "          3.85765963e-16,   5.70815856e-14,   5.31074298e-14],\n",
       "       [  7.98058575e-07,   5.56902346e-07,   1.50247625e-07, ...,\n",
       "          2.23843949e-15,   4.80994580e-13,   4.47404985e-13],\n",
       "       [  8.51528377e-05,  -5.67052785e-04,   6.03909110e-05, ...,\n",
       "          3.74183398e-19,  -5.69907064e-18,  -5.28512172e-18],\n",
       "       ..., \n",
       "       [ -2.84708072e-08,   2.23084208e-08,  -2.38969395e-09, ...,\n",
       "         -4.91462167e-15,  -4.68772423e-13,  -4.36582988e-13],\n",
       "       [ -1.10206399e-08,  -1.63459321e-08,   3.33094049e-09, ...,\n",
       "         -1.07991910e-14,  -2.47653662e-13,  -2.31357901e-13],\n",
       "       [  5.26094895e-10,   1.09159972e-07,   1.15278095e-08, ...,\n",
       "         -1.82285962e-15,   3.78467962e-14,   3.51492048e-14]])"
      ]
     },
     "execution_count": 6,
     "metadata": {},
     "output_type": "execute_result"
    }
   ],
   "source": [
    "data_eigvecs"
   ]
  },
  {
   "cell_type": "code",
   "execution_count": 7,
   "metadata": {},
   "outputs": [
    {
     "data": {
      "image/png": "[encoded data removed]",
      "text/plain": [
       "<matplotlib.figure.Figure at 0x107a36048>"
      ]
     },
     "metadata": {},
     "output_type": "display_data"
    }
   ],
   "source": [
    "nums = np.arange(1,data_eigvals.size+1)\n",
    "plt.plot(nums, np.sort(data_eigvals)[::-1])\n",
    "plt.yscale('log')\n",
    "plt.show()"
   ]
  },
  {
   "cell_type": "code",
   "execution_count": 8,
   "metadata": {},
   "outputs": [
    {
     "data": {
      "text/plain": [
       "array([[ -4.65834329e-04,   4.14575430e-06,  -5.09082626e-05, ...,\n",
       "         -1.33464814e-03,   2.71735271e-03,   7.98497720e-04],\n",
       "       [  7.98058575e-07,   5.56902346e-07,   1.50247625e-07, ...,\n",
       "          2.07768692e-02,   9.96771230e-01,  -4.49261605e-02],\n",
       "       [  8.51528377e-05,  -5.67052785e-04,   6.03909110e-05, ...,\n",
       "         -7.22740650e-04,   5.14603538e-06,  -4.90140954e-06],\n",
       "       ..., \n",
       "       [ -2.84708072e-08,   2.23084208e-08,  -2.38969395e-09, ...,\n",
       "          4.07553864e-05,   1.92182182e-03,   4.20994200e-03],\n",
       "       [ -1.10206399e-08,  -1.63459321e-08,   3.33094049e-09, ...,\n",
       "          3.77269667e-04,  -1.48350301e-02,  -9.30670943e-04],\n",
       "       [  5.26094895e-10,   1.09159972e-07,   1.15278095e-08, ...,\n",
       "         -2.40745078e-03,   6.41005383e-03,   2.65427943e-03]])"
      ]
     },
     "execution_count": 8,
     "metadata": {},
     "output_type": "execute_result"
    }
   ],
   "source": [
    "first_index = data_eigvals.argsort()[-1:][::-1]\n",
    "last_index = data_eigvals.argsort()[-20:-19][::-1]\n",
    "matrix_A = data_eigvecs[:,:20]\n",
    "#matrix_A = np.transpose(matrix_A)\n",
    "matrix_A"
   ]
  },
  {
   "cell_type": "code",
   "execution_count": 9,
   "metadata": {},
   "outputs": [
    {
     "data": {
      "text/plain": [
       "(29733, 20)"
      ]
     },
     "execution_count": 9,
     "metadata": {},
     "output_type": "execute_result"
    }
   ],
   "source": [
    "data_PCA = np.dot(datax_train,matrix_A )\n",
    "data_PCA.shape"
   ]
  },
  {
   "cell_type": "markdown",
   "metadata": {},
   "source": [
    "## Online learning with static expert"
   ]
  },
  {
   "cell_type": "code",
   "execution_count": 10,
   "metadata": {
    "collapsed": true
   },
   "outputs": [],
   "source": [
    "t=1\n",
    "pt = np.ones(data_PCA.shape[1])/data_PCA.shape[1]\n",
    "b=0.000000001\n",
    "#b=0.000000001\n",
    "steps = data_PCA.shape[0]\n",
    "#steps = 20000\n",
    "iterLoss = np.zeros(data_PCA.shape[0])\n",
    "for j in range(0,steps):\n",
    "    iterLoss[j] = np.square(np.sum(np.multiply(data_PCA[j,:] , pt))-datay_train[j])\n",
    "    for i in range(0,data_PCA.shape[1]):\n",
    "        loss = np.square(data_PCA[j,i]-datay_train[j])\n",
    "        pt[i] = pt[i]*np.power(np.exp(1),(-b * loss))\n",
    "    pt = pt/np.sum(pt)\n",
    "lt = np.zeros(data_PCA.shape[0])\n",
    "for j in range(0,steps):\n",
    "    for i in range(0,j+1):\n",
    "        lt[j]+= iterLoss[i]\n",
    "    lt[j]=lt[j]/(j+1)"
   ]
  },
  {
   "cell_type": "code",
   "execution_count": 11,
   "metadata": {},
   "outputs": [
    {
     "data": {
      "image/png": "[encoded data removed]",
      "text/plain": [
       "<matplotlib.figure.Figure at 0x107db37b8>"
      ]
     },
     "metadata": {},
     "output_type": "display_data"
    }
   ],
   "source": [
    "plt.plot(lt)\n",
    "plt.show()"
   ]
  },
  {
   "cell_type": "code",
   "execution_count": 12,
   "metadata": {
    "collapsed": true
   },
   "outputs": [],
   "source": [
    "matrix_A = data_eigvecs[:,:10]\n",
    "#matrix_A = np.transpose(matrix_A)\n",
    "data_PCA = np.dot(datax_train,matrix_A )\n",
    "\n",
    "t=1\n",
    "pt = np.ones(data_PCA.shape[1])/data_PCA.shape[1]\n",
    "b=0.000000001\n",
    "#b=0.000000001\n",
    "steps = data_PCA.shape[0]\n",
    "#steps = 20000\n",
    "iterLoss = np.zeros(data_PCA.shape[0])\n",
    "for j in range(0,steps):\n",
    "    iterLoss[j] = np.square(np.sum(np.multiply(data_PCA[j,:] , pt))-datay_train[j])\n",
    "    for i in range(0,data_PCA.shape[1]):\n",
    "        loss = np.square(data_PCA[j,i]-datay_train[j])\n",
    "        pt[i] = pt[i]*np.power(np.exp(1),(-b * loss))\n",
    "    pt = pt/np.sum(pt)\n",
    "lt = np.zeros(data_PCA.shape[0])\n",
    "for j in range(0,steps):\n",
    "    for i in range(0,j+1):\n",
    "        lt[j]+= iterLoss[i]\n",
    "    lt[j]=lt[j]/(j+1)"
   ]
  },
  {
   "cell_type": "code",
   "execution_count": 13,
   "metadata": {},
   "outputs": [
    {
     "data": {
      "image/png": "[encoded data removed]",
      "text/plain": [
       "<matplotlib.figure.Figure at 0x1089d85c0>"
      ]
     },
     "metadata": {},
     "output_type": "display_data"
    }
   ],
   "source": [
    "plt.plot(lt)\n",
    "plt.show()"
   ]
  },
  {
   "cell_type": "code",
   "execution_count": 14,
   "metadata": {
    "collapsed": true
   },
   "outputs": [],
   "source": [
    "matrix_A = data_eigvecs[:,:5]\n",
    "#matrix_A = np.transpose(matrix_A)\n",
    "data_PCA = np.dot(datax_train,matrix_A )\n",
    "\n",
    "t=1\n",
    "pt = np.ones(data_PCA.shape[1])/data_PCA.shape[1]\n",
    "b=0.000000001\n",
    "#b=0.000000001\n",
    "steps = data_PCA.shape[0]\n",
    "#steps = 20000\n",
    "iterLoss = np.zeros(data_PCA.shape[0])\n",
    "for j in range(0,steps):\n",
    "    iterLoss[j] = np.square(np.sum(np.multiply(data_PCA[j,:] , pt))-datay_train[j])\n",
    "    for i in range(0,data_PCA.shape[1]):\n",
    "        loss = np.square(data_PCA[j,i]-datay_train[j])\n",
    "        pt[i] = pt[i]*np.power(np.exp(1),(-b * loss))\n",
    "    pt = pt/np.sum(pt)\n",
    "lt = np.zeros(data_PCA.shape[0])\n",
    "for j in range(0,steps):\n",
    "    for i in range(0,j+1):\n",
    "        lt[j]+= iterLoss[i]\n",
    "    lt[j]=lt[j]/(j+1)"
   ]
  },
  {
   "cell_type": "code",
   "execution_count": 15,
   "metadata": {},
   "outputs": [
    {
     "data": {
      "image/png": "[encoded data removed]",
      "text/plain": [
       "<matplotlib.figure.Figure at 0x107e4ee80>"
      ]
     },
     "metadata": {},
     "output_type": "display_data"
    }
   ],
   "source": [
    "plt.plot(lt)\n",
    "plt.show()"
   ]
  },
  {
   "cell_type": "code",
   "execution_count": 16,
   "metadata": {
    "collapsed": true
   },
   "outputs": [],
   "source": [
    "matrix_A = data_eigvecs[:,:2]\n",
    "#matrix_A = np.transpose(matrix_A)\n",
    "data_PCA = np.dot(datax_train,matrix_A )\n",
    "\n",
    "t=1\n",
    "pt = np.ones(data_PCA.shape[1])/data_PCA.shape[1]\n",
    "b=0.000000001\n",
    "#b=0.000000001\n",
    "steps = data_PCA.shape[0]\n",
    "#steps = 20000\n",
    "iterLoss = np.zeros(data_PCA.shape[0])\n",
    "for j in range(0,steps):\n",
    "    iterLoss[j] = np.square(np.sum(np.multiply(data_PCA[j,:] , pt))-datay_train[j])\n",
    "    for i in range(0,data_PCA.shape[1]):\n",
    "        loss = np.square(data_PCA[j,i]-datay_train[j])\n",
    "        pt[i] = pt[i]*np.power(np.exp(1),(-b * loss))\n",
    "    pt = pt/np.sum(pt)\n",
    "lt = np.zeros(data_PCA.shape[0])\n",
    "for j in range(0,steps):\n",
    "    if j == 0:\n",
    "        lt[j] = iterLoss[0]\n",
    "    for i in range(0,j):\n",
    "        lt[j]+= iterLoss[i]\n",
    "    lt[j]=lt[j]/(j+1)"
   ]
  },
  {
   "cell_type": "code",
   "execution_count": 17,
   "metadata": {},
   "outputs": [
    {
     "data": {
      "image/png": "[encoded data removed]",
      "text/plain": [
       "<matplotlib.figure.Figure at 0x10924fb70>"
      ]
     },
     "metadata": {},
     "output_type": "display_data"
    }
   ],
   "source": [
    "plt.plot(lt)\n",
    "plt.show()"
   ]
  },
  {
   "cell_type": "code",
   "execution_count": 18,
   "metadata": {},
   "outputs": [
    {
     "data": {
      "text/plain": [
       "array([  3.20485697e+05,   1.60242848e+05,   2.75444698e+05, ...,\n",
       "         1.43364528e+10,   1.43360578e+10,   1.43355793e+10])"
      ]
     },
     "execution_count": 18,
     "metadata": {},
     "output_type": "execute_result"
    }
   ],
   "source": [
    "lt"
   ]
  },
  {
   "cell_type": "code",
   "execution_count": 19,
   "metadata": {},
   "outputs": [
    {
     "data": {
      "text/plain": [
       "320485.69655027939"
      ]
     },
     "execution_count": 19,
     "metadata": {},
     "output_type": "execute_result"
    }
   ],
   "source": [
    "lt[0]"
   ]
  },
  {
   "cell_type": "markdown",
   "metadata": {},
   "source": [
    "## Bad attempt"
   ]
  },
  {
   "cell_type": "code",
   "execution_count": null,
   "metadata": {
    "collapsed": true
   },
   "outputs": [],
   "source": []
  }
 ],
 "metadata": {
  "kernelspec": {
   "display_name": "Python 3",
   "language": "python",
   "name": "python3"
  },
  "language_info": {
   "codemirror_mode": {
    "name": "ipython",
    "version": 3
   },
   "file_extension": ".py",
   "mimetype": "text/x-python",
   "name": "python",
   "nbconvert_exporter": "python",
   "pygments_lexer": "ipython3",
   "version": "3.5.4"
  }
 },
 "nbformat": 4,
 "nbformat_minor": 2
}
