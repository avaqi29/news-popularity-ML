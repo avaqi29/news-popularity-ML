{
 "cells": [
  {
   "cell_type": "markdown",
   "metadata": {},
   "source": [
    "# Online Learning with Static-Expert"
   ]
  },
  {
   "cell_type": "code",
   "execution_count": 1,
   "metadata": {
    "collapsed": true
   },
   "outputs": [],
   "source": [
    "import pandas as pd\n",
    "import numpy as np\n",
    "import matplotlib.pyplot as plt\n",
    "import math as mt\n",
    "from numpy import genfromtxt\n",
    "from numpy import linalg as LA"
   ]
  },
  {
   "cell_type": "code",
   "execution_count": 15,
   "metadata": {},
   "outputs": [],
   "source": [
    "df = pd.read_csv('OnlineNewsPopularity.csv')\n",
    "dfx = df.loc[:, ' timedelta':' abs_title_sentiment_polarity']\n",
    "dfy = df.loc[:, ' shares']\n",
    "\n",
    "datax = dfx.as_matrix(columns=None)\n",
    "datay = dfy.as_matrix(columns=None)"
   ]
  },
  {
   "cell_type": "code",
   "execution_count": null,
   "metadata": {},
   "outputs": [
    {
     "name": "stderr",
     "output_type": "stream",
     "text": [
      "/Users/avaqi/anaconda3/lib/python3.6/site-packages/ipykernel_launcher.py:10: RuntimeWarning: invalid value encountered in true_divide\n",
      "  # Remove the CWD from sys.path while we load stuff.\n"
     ]
    }
   ],
   "source": [
    "t=1\n",
    "pt = np.ones(datax.shape[1])/datax.shape[1]\n",
    "b=1\n",
    "iterLoss = np.zeros(datax.shape[0])\n",
    "for j in range(0,datax.shape[0]):\n",
    "    iterLoss[j] = np.square(np.sum(np.multiply(datax[j,:] , pt))-datay[j])\n",
    "    for i in range(0,datax.shape[1]):\n",
    "        loss = np.square(datax[j,i]-datay[j])\n",
    "        pt[i] = pt[i]*np.power(np.exp(1),(-b * loss))\n",
    "    pt = pt/np.sum(pt)\n",
    "\n",
    "lt = np.zeros(datax.shape[0])\n",
    "for j in range(0,datax.shape[0]):\n",
    "    for i in range(0,j):\n",
    "        lt[j]+= iterLoss[i]\n",
    "    lt[j]=lt[j]/(j+1)\n",
    "    plt.plot(j,lt[j],'ro',c='r',markersize = 1)\n",
    "plt.show()"
   ]
  },
  {
   "cell_type": "code",
   "execution_count": null,
   "metadata": {
    "collapsed": true
   },
   "outputs": [],
   "source": []
  }
 ],
 "metadata": {
  "kernelspec": {
   "display_name": "Python 3",
   "language": "python",
   "name": "python3"
  },
  "language_info": {
   "codemirror_mode": {
    "name": "ipython",
    "version": 3
   },
   "file_extension": ".py",
   "mimetype": "text/x-python",
   "name": "python",
   "nbconvert_exporter": "python",
   "pygments_lexer": "ipython3",
   "version": "3.6.2"
  }
 },
 "nbformat": 4,
 "nbformat_minor": 2
}
